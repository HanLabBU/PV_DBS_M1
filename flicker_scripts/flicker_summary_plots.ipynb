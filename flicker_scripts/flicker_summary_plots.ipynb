{
 "cells": [
  {
   "cell_type": "code",
   "execution_count": 11,
   "metadata": {},
   "outputs": [],
   "source": [
    "# Import statements\n",
    "import os\n",
    "import pandas as pd\n",
    "import numpy as np\n",
    "from matplotlib import pyplot as plt\n",
    "import matplotlib.patches as patches\n",
    "from matplotlib.transforms import Bbox\n",
    "from matplotlib.figure import Figure\n",
    "from matplotlib.colors import LinearSegmentedColormap\n",
    "import sys\n",
    "from glob import glob\n",
    "from pymatreader import read_mat\n",
    "from scipy import signal\n",
    "from scipy import stats\n",
    "from scipy.ndimage import uniform_filter1d\n",
    "\n",
    "import itertools\n",
    "\n",
    "#import matlab.engine\n",
    "# Test out matlab spike detection code\n",
    "#eng = matlab.engine.start_matlab()\n",
    "#eng.eval(\"startup\", nargout=0)\n",
    "\n",
    "# Importing custom python files\n",
    "import consts\n",
    "import importlib\n",
    "importlib.reload(consts)\n",
    "\n",
    "from open_ephys.analysis import Session\n",
    "\n",
    "%matplotlib tk\n",
    "\n",
    "f = os.sep"
   ]
  },
  {
   "cell_type": "code",
   "execution_count": 12,
   "metadata": {},
   "outputs": [
    {
     "name": "stdout",
     "output_type": "stream",
     "text": [
      "Index(['frame_time', 'raw_trace', 'sub_vm', 'detrend_vm', 'interp_time',\n",
      "       'interp_raw_trace', 'interp_raw_detrend_trace', 'interp_spike_raster',\n",
      "       'flicker_raster', 'stim_raster', 'interp_subvm', 'stim_freq',\n",
      "       'flicker_freq', 'mouse_id', 'session_id', 'trial_id', 'stim_param',\n",
      "       'fov_id', 'roi_id'],\n",
      "      dtype='object')\n"
     ]
    }
   ],
   "source": [
    "# Read in pickle file\n",
    "interm_data_path =  f + 'home' +f+ 'pierfier' +f+ 'Projects' +f+ 'Pierre Fabris' +f+ 'PV DBS neocortex' +f+ 'Interm_Data' +f+ 'flicker.pkl'\n",
    "df =pd.read_pickle(interm_data_path)\n",
    "print(df.columns)"
   ]
  },
  {
   "cell_type": "code",
   "execution_count": 15,
   "metadata": {},
   "outputs": [],
   "source": [
    "# Loop through each frequency and plot all traces\n",
    "\n",
    "#Specify centimeter units\n",
    "cm = 1/2.54\n",
    "use_freqs = df['stim_freq'].unique()\n",
    "for freq in use_freqs:\n",
    "    freq_df = df[df['stim_freq'] == freq]\n",
    "    plot_df = freq_df.pivot(index=['mouse_id', 'session_id', 'fov_id', 'trial_id'], \\\n",
    "                            columns='interp_time', values='interp_raw_detrend_trace')\n",
    "\n",
    "    timeline = plot_df.columns.values\n",
    "    trial_idx = np.arange(plot_df.shape[0])\n",
    "\n",
    "    # Plot the heatmap\n",
    "    fig, ax = plt.subplots()\n",
    "    \n",
    "    plt.rcParams['font.size'] = 7\n",
    "    ax.set_position(Bbox.from_extents(1, 1, 11*cm, 9*cm))\n",
    "    ax.spines['top'].set_visible(False)\n",
    "    ax.spines['right'].set_visible(False)\n",
    "    ax.spines['left'].set_visible(False)\n",
    "    surf_plot = ax.pcolormesh(timeline, trial_idx, plot_df.values)\n",
    "    cbar = plt.colorbar(surf_plot, label='Normalized Vm')\n",
    "\n",
    "    ax.set_title(str(freq) + ' Hz')\n",
    "plt.show()    "
   ]
  },
  {
   "cell_type": "code",
   "execution_count": 14,
   "metadata": {},
   "outputs": [],
   "source": [
    "plt.close('all')"
   ]
  }
 ],
 "metadata": {
  "kernelspec": {
   "display_name": "Python 3",
   "language": "python",
   "name": "python3"
  },
  "language_info": {
   "codemirror_mode": {
    "name": "ipython",
    "version": 3
   },
   "file_extension": ".py",
   "mimetype": "text/x-python",
   "name": "python",
   "nbconvert_exporter": "python",
   "pygments_lexer": "ipython3",
   "version": "3.12.1"
  }
 },
 "nbformat": 4,
 "nbformat_minor": 2
}
