{
 "cells": [
  {
   "cell_type": "code",
   "execution_count": null,
   "metadata": {},
   "outputs": [],
   "source": [
    "from open_ephys.analysis import Session\n",
    "from matplotlib import pyplot as plt\n",
    "import numpy as np\n",
    "\n",
    "import consts\n",
    "import importlib\n",
    "importlib.reload(consts)\n",
    "\n",
    "%matplotlib tk"
   ]
  },
  {
   "cell_type": "code",
   "execution_count": null,
   "metadata": {},
   "outputs": [],
   "source": [
    "\n",
    "directory = '/home/pierfier/handata_server/eng_research_handata3/Yangyang_Wang/PV_V1_LED_SomArchon/109558_Vb_male/20240311/ephys/109558_flicker8hz_DBS40hz_fov1_2024-03-11_15-54-11/'\n",
    "\n",
    "session = Session(directory)     \n",
    "\n"
   ]
  },
  {
   "cell_type": "code",
   "execution_count": 16,
   "metadata": {},
   "outputs": [
    {
     "name": "stdout",
     "output_type": "stream",
     "text": [
      "Open Ephys GUI Recording\n",
      "ID: 0x7f168099e150\n",
      "Format: Binary\n",
      "Directory: /home/pierfier/handata_server/eng_research_handata3/Yangyang_Wang/PV_V1_LED_SomArchon/109558_Vb_male/20240311/ephys/109558_flicker8hz_DBS40hz_fov1_2024-03-11_15-54-11/Record Node 103/experiment1/recording1\n",
      "Experiment Index: 0\n",
      "Recording Index: 0\n",
      "1.998600000006718 0.9985666666902944\n",
      "1.998600000132683 0.9985999998498301\n",
      "1.9985999999698834 0.9985999999498745\n",
      "1.998600000006718 0.9985666666902944\n",
      "1.9986000001495086 0.9985666667416808\n",
      "1.9986000000435524 0.9986000000235435\n",
      "1.9985999999698834 0.9985999999498745\n",
      "1.9985999998411899 0.9985666665247663\n",
      "1.998600000006718 0.998599999986709\n",
      "1.998599999970338 0.9985999998962143\n",
      "1.998600000006718 0.9986000000235435\n"
     ]
    }
   ],
   "source": [
    "# Exploring\n",
    "print(session.recordnodes[0].recordings[0])\n",
    "\n",
    "data = session.recordnodes[0].recordings[0].continuous[0]\n",
    "\n",
    "ephys_data = session.recordnodes[0].recordings[0].continuous[0]\n",
    "\n",
    "# Extract and find the start times of recording trials\n",
    "start_chan_idx = ephys_data.metadata['channel_names'].index('ADC5')\n",
    "raw_start_trigger = ephys_data.samples[:, start_chan_idx]\n",
    "frame_chan_idx = ephys_data.metadata['channel_names'].index('ADC1')\n",
    "raw_frame_trigger = ephys_data.samples[:, frame_chan_idx]\n",
    "stim_chan_idx = ephys_data.metadata['channel_names'].index('ADC4')\n",
    "raw_stim_trigger = ephys_data.samples[:, stim_chan_idx]\n",
    "flicker_chan_idx = ephys_data.metadata['channel_names'].index('ADC3')\n",
    "raw_flicker_trigger = ephys_data.samples[:, flicker_chan_idx]\n",
    "# Get all of the rise idxs\n",
    "record_start_idx = consts.get_ephys_rise_indices(raw_start_trigger)\n",
    "all_frame_idx = consts.get_ephys_rise_indices(raw_frame_trigger)\n",
    "all_stim_idx = consts.get_ephys_rise_indices(raw_stim_trigger)\n",
    "all_flicker_idx = consts.get_ephys_rise_indices(raw_flicker_trigger)\n",
    "# Get the reverse flicker idxs\n",
    "#TODO fix this and try to get the reverse indices for the flicker and get the pulse width\n",
    "all_flicker_end_idx = consts.get_ephys_rise_indices(raw_flicker_trigger)\n",
    "block_frame_timestamps = []\n",
    "block_stim_timestamps = []\n",
    "block_flicker_timestamps = []\n",
    "#DEBUG\n",
    "#plt.figure()\n",
    "#plt.plot(ephys_data.timestamps, raw_start_trigger)\n",
    "#plt.plot(ephys_data.timestamps[record_start_idx], raw_start_trigger[record_start_idx], '|')\n",
    "#plt.title('Ephys Debugging')\n",
    "#plt.show()\n",
    "#plt.figure()\n",
    "#plt.plot(ephys_data.timestamps, raw_start_trigger, '-g')\n",
    "#plt.plot(ephys_data.timestamps, raw_stim_trigger, '-g')\n",
    "#plt.plot(ephys_data.timestamps, raw_flicker_trigger, '-b')\n",
    "# Loop through each recording start trigger and parse together all of the trials\n",
    "for i in range(record_start_idx.shape[0]):\n",
    "    start_idx = record_start_idx[i]\n",
    "    if i == record_start_idx.shape[0] - 1:\n",
    "        next_idx = float('inf')\n",
    "    else:\n",
    "        next_idx = record_start_idx[i + 1]\n",
    "    # Find all of the camera frame indices for the given block\n",
    "    frame_idxs = all_frame_idx[(all_frame_idx > start_idx) & (all_frame_idx < next_idx)]\n",
    "    stim_idxs = all_stim_idx[(all_stim_idx > start_idx) & (all_stim_idx < next_idx)]\n",
    "    flicker_idxs = all_flicker_idx[(all_flicker_idx > start_idx) & (all_flicker_idx < next_idx)]\n",
    "    block_frame_timestamps.append(ephys_data.timestamps[frame_idxs])\n",
    "    block_stim_timestamps.append(ephys_data.timestamps[stim_idxs])\n",
    "    block_flicker_timestamps.append(ephys_data.timestamps[flicker_idxs])\n",
    "\n",
    "# Check all of the stimulation and flicker start times\n",
    "for frame_time, stim_time, flicker_time in zip(block_frame_timestamps, block_stim_timestamps, block_flicker_timestamps):\n",
    "    tr_start = frame_time[0]\n",
    "    frame_time = frame_time - tr_start\n",
    "    stim_time = stim_time - tr_start\n",
    "    flicker_time = flicker_time  - tr_start\n",
    "\n",
    "    print(str(stim_time[0]) +' '+ str(flicker_time[0]))"
   ]
  },
  {
   "cell_type": "code",
   "execution_count": null,
   "metadata": {},
   "outputs": [],
   "source": [
    "# Print the data in the ADC \n",
    "all_data = data.get_samples(start_sample_index=0, end_sample_index=10000)\n",
    "print(all_data.shape)\n",
    "\n",
    "print(data.metadata['channel_names'])\n",
    "\n",
    "# Get the rise times for camera frames\n",
    "chan_ind = data.metadata['channel_names'].index('ADC1')\n",
    "frame_idx = consts.get_ephys_rise_indices(data.samples[:, chan_ind])\n",
    "\n",
    "frame_time = data.timestamps[frame_idx]\n",
    "\n",
    "print('Unique frame difference')\n",
    "print(np.unique(np.diff(frame_time)))\n",
    "\n",
    "# Loop through and show all of the ADC channels data\n",
    "\n",
    "plt.figure()\n",
    "\n",
    "for i in range(1, 9):\n",
    "    chan_ind = data.metadata['channel_names'].index('ADC' + str(i))\n",
    "    adc = data.samples[:, chan_ind]\n",
    "    min_d = np.min(adc)\n",
    "    max_d = np.max(adc)\n",
    "    norm_d = (adc - min_d) / (max_d - min_d)\n",
    "    plt.plot(data.timestamps, norm_d + i*(1.25)) \n",
    "\n",
    "plt.show()"
   ]
  },
  {
   "cell_type": "code",
   "execution_count": null,
   "metadata": {},
   "outputs": [],
   "source": [
    "plt.close('all')"
   ]
  }
 ],
 "metadata": {
  "kernelspec": {
   "display_name": "Python 3",
   "language": "python",
   "name": "python3"
  },
  "language_info": {
   "codemirror_mode": {
    "name": "ipython",
    "version": 3
   },
   "file_extension": ".py",
   "mimetype": "text/x-python",
   "name": "python",
   "nbconvert_exporter": "python",
   "pygments_lexer": "ipython3",
   "version": "3.12.1"
  }
 },
 "nbformat": 4,
 "nbformat_minor": 2
}
