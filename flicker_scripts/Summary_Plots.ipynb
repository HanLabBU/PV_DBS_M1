{
 "cells": [
  {
   "cell_type": "code",
   "execution_count": 1,
   "metadata": {},
   "outputs": [
    {
     "name": "stderr",
     "output_type": "stream",
     "text": [
      "/home/pierfier/.local/lib/python3.12/site-packages/pandas/core/arrays/masked.py:60: UserWarning: Pandas requires version '1.3.6' or newer of 'bottleneck' (version '1.3.5' currently installed).\n",
      "  from pandas.core import (\n",
      "/tmp/ipykernel_269831/2799196221.py:3: DeprecationWarning: \n",
      "Pyarrow will become a required dependency of pandas in the next major release of pandas (pandas 3.0),\n",
      "(to allow more performant data types, such as the Arrow string type, and better interoperability with other libraries)\n",
      "but was not found to be installed on your system.\n",
      "If this would cause problems for you,\n",
      "please provide us feedback at https://github.com/pandas-dev/pandas/issues/54466\n",
      "        \n",
      "  import pandas as pd\n"
     ]
    },
    {
     "ename": "ModuleNotFoundError",
     "evalue": "No module named 'consts'",
     "output_type": "error",
     "traceback": [
      "\u001b[0;31m---------------------------------------------------------------------------\u001b[0m",
      "\u001b[0;31mModuleNotFoundError\u001b[0m                       Traceback (most recent call last)",
      "Cell \u001b[0;32mIn[1], line 21\u001b[0m\n\u001b[1;32m     13\u001b[0m \u001b[38;5;28;01mimport\u001b[39;00m \u001b[38;5;21;01mitertools\u001b[39;00m\n\u001b[1;32m     15\u001b[0m \u001b[38;5;66;03m#import matlab.engine\u001b[39;00m\n\u001b[1;32m     16\u001b[0m \u001b[38;5;66;03m# Test out matlab spike detection code\u001b[39;00m\n\u001b[1;32m     17\u001b[0m \u001b[38;5;66;03m#eng = matlab.engine.start_matlab()\u001b[39;00m\n\u001b[1;32m     18\u001b[0m \u001b[38;5;66;03m#eng.eval(\"startup\", nargout=0)\u001b[39;00m\n\u001b[1;32m     19\u001b[0m \n\u001b[1;32m     20\u001b[0m \u001b[38;5;66;03m# Importing custom python files\u001b[39;00m\n\u001b[0;32m---> 21\u001b[0m \u001b[38;5;28;01mimport\u001b[39;00m \u001b[38;5;21;01mconsts\u001b[39;00m\n\u001b[1;32m     22\u001b[0m \u001b[38;5;28;01mimport\u001b[39;00m \u001b[38;5;21;01mimportlib\u001b[39;00m\n\u001b[1;32m     23\u001b[0m importlib\u001b[38;5;241m.\u001b[39mreload(consts)\n",
      "\u001b[0;31mModuleNotFoundError\u001b[0m: No module named 'consts'"
     ]
    }
   ],
   "source": [
    "# Import statements\n",
    "import os\n",
    "import pandas as pd\n",
    "import numpy as np\n",
    "from matplotlib import pyplot as plt\n",
    "import sys\n",
    "from glob import glob\n",
    "from pymatreader import read_mat\n",
    "from scipy import signal\n",
    "from scipy import stats\n",
    "from scipy.ndimage import uniform_filter1d\n",
    "\n",
    "import itertools\n",
    "\n",
    "#import matlab.engine\n",
    "# Test out matlab spike detection code\n",
    "#eng = matlab.engine.start_matlab()\n",
    "#eng.eval(\"startup\", nargout=0)\n",
    "\n",
    "# Importing custom python files\n",
    "import consts\n",
    "import importlib\n",
    "importlib.reload(consts)\n",
    "\n",
    "from open_ephys.analysis import Session\n",
    "\n",
    "%matplotlib tk\n",
    "\n",
    "f = os.sep"
   ]
  },
  {
   "cell_type": "code",
   "execution_count": null,
   "metadata": {},
   "outputs": [],
   "source": [
    "# Read in pickle file\n",
    "interm_data_path =  f + 'home' +f+ 'pierfier' +f+ 'Projects' +f+ 'Pierre Fabris' +f+ 'PV DBS neocortex' +f+ 'Interm_Data' +f+ 'flicker.pkl'\n",
    "df =pd.read_pickle(interm_data_path)\n",
    "print(df.columns)"
   ]
  },
  {
   "cell_type": "code",
   "execution_count": null,
   "metadata": {},
   "outputs": [],
   "source": []
  }
 ],
 "metadata": {
  "kernelspec": {
   "display_name": "Python 3",
   "language": "python",
   "name": "python3"
  },
  "language_info": {
   "codemirror_mode": {
    "name": "ipython",
    "version": 3
   },
   "file_extension": ".py",
   "mimetype": "text/x-python",
   "name": "python",
   "nbconvert_exporter": "python",
   "pygments_lexer": "ipython3",
   "version": "3.12.1"
  }
 },
 "nbformat": 4,
 "nbformat_minor": 2
}
